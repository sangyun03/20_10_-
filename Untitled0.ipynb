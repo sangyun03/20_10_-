{
  "nbformat": 4,
  "nbformat_minor": 0,
  "metadata": {
    "colab": {
      "provenance": [],
      "authorship_tag": "ABX9TyOOVimtUvpraydfo1Y2f+7q",
      "include_colab_link": true
    },
    "kernelspec": {
      "name": "python3",
      "display_name": "Python 3"
    },
    "language_info": {
      "name": "python"
    }
  },
  "cells": [
    {
      "cell_type": "markdown",
      "metadata": {
        "id": "view-in-github",
        "colab_type": "text"
      },
      "source": [
        "<a href=\"https://colab.research.google.com/github/sangyun03/20_10_-/blob/main/Untitled0.ipynb\" target=\"_parent\"><img src=\"https://colab.research.google.com/assets/colab-badge.svg\" alt=\"Open In Colab\"/></a>"
      ]
    },
    {
      "cell_type": "code",
      "source": [
        "print (\"안녕하세요? 김상윤님, 기초파이썬 강좌를 수강하신 것을 축하드립니다.\")"
      ],
      "metadata": {
        "colab": {
          "base_uri": "https://localhost:8080/"
        },
        "id": "OsDxqT0U9jfd",
        "outputId": "d40c77e2-9253-43d3-d810-409164308415"
      },
      "execution_count": 16,
      "outputs": [
        {
          "output_type": "stream",
          "name": "stdout",
          "text": [
            "안녕하세요? 김상윤님, 기초파이썬 강좌를 수강하신 것을 축하드립니다.\n"
          ]
        }
      ]
    },
    {
      "cell_type": "code",
      "source": [
        "print (\"*\"*35)\n",
        "print (\"*제1조 1항 대한민국은 민주공화국아다.*\")\n",
        "print (\"*\"*35)"
      ],
      "metadata": {
        "colab": {
          "base_uri": "https://localhost:8080/"
        },
        "id": "96xSgIt4-9cx",
        "outputId": "77decae8-0d71-456e-dc7c-f0353f221545"
      },
      "execution_count": 20,
      "outputs": [
        {
          "output_type": "stream",
          "name": "stdout",
          "text": [
            "***********************************\n",
            "*제1조 1항 대한민국은 민주공화국아다.*\n",
            "***********************************\n"
          ]
        }
      ]
    },
    {
      "cell_type": "code",
      "source": [
        "print (\"Welcome python, 저는 파이썬을 좋아합니다.\")"
      ],
      "metadata": {
        "colab": {
          "base_uri": "https://localhost:8080/"
        },
        "id": "AbUJTuS2CrV8",
        "outputId": "595c03ac-4207-4543-a639-579803e68f75"
      },
      "execution_count": 22,
      "outputs": [
        {
          "output_type": "stream",
          "name": "stdout",
          "text": [
            "Welcome python, 저는 파이썬을 좋아합니다.\n"
          ]
        }
      ]
    },
    {
      "cell_type": "code",
      "source": [
        "name=input (\"이름을 입력하시오\")\n",
        "age=input (\"나이를 입력하시오\")\n",
        "address=input (\"주소를 입력하시오\")"
      ],
      "metadata": {
        "colab": {
          "base_uri": "https://localhost:8080/"
        },
        "id": "I7TYxz-iDBhj",
        "outputId": "dd513caa-7163-4c2d-d4c1-6a39fe7b3831"
      },
      "execution_count": 23,
      "outputs": [
        {
          "name": "stdout",
          "output_type": "stream",
          "text": [
            "이름을 입력하시오김상윤\n",
            "나이를 입력하시오20\n",
            "주소를 입력하시오대전 중구 유천동 현대아파트\n"
          ]
        }
      ]
    },
    {
      "cell_type": "code",
      "source": [
        "x='7'\n",
        "y='4'\n",
        "print(x+y)"
      ],
      "metadata": {
        "colab": {
          "base_uri": "https://localhost:8080/"
        },
        "id": "xExo5IAKLAEk",
        "outputId": "e885d42c-d43c-4286-9be4-5f42bf88b57f"
      },
      "execution_count": 29,
      "outputs": [
        {
          "output_type": "stream",
          "name": "stdout",
          "text": [
            "74\n"
          ]
        }
      ]
    },
    {
      "cell_type": "code",
      "source": [
        "name = input(\"성명을 입력하시오.: \")\n",
        "age = input(\"나이를 입력하시오.: \")\n",
        "addr = input(\"주소를 입력하시오.: \")\n",
        "print(name, age, addr)\n",
        "print(name)\n",
        "print(age)\n",
        "print(addr)"
      ],
      "metadata": {
        "colab": {
          "base_uri": "https://localhost:8080/"
        },
        "id": "04hWjppaENoy",
        "outputId": "23d51e9f-b982-4c61-91d2-a3ceec7965bd"
      },
      "execution_count": 28,
      "outputs": [
        {
          "output_type": "stream",
          "name": "stdout",
          "text": [
            "성명을 입력하시오.: 김상윤\n",
            "나이를 입력하시오.: 20\n",
            "주소를 입력하시오.: 대전 중구 유천동 현대아파트\n",
            "김상윤 20 대전 중구 유천동 현대아파트\n",
            "김상윤\n",
            "20\n",
            "대전 중구 유천동 현대아파트\n"
          ]
        }
      ]
    }
  ]
}